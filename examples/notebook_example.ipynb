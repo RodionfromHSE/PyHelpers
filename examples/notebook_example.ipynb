{
 "cells": [
  {
   "cell_type": "code",
   "execution_count": 1,
   "metadata": {},
   "outputs": [],
   "source": [
    "%load_ext autoreload\n",
    "%autoreload 2"
   ]
  },
  {
   "cell_type": "code",
   "execution_count": 2,
   "metadata": {},
   "outputs": [
    {
     "name": "stdout",
     "output_type": "stream",
     "text": [
      "Project root: /Users/Rodion.Khvorostov/Desktop/Programming/Python/PythonPetProjects/DecksGenerator/helpers\n"
     ]
    }
   ],
   "source": [
    "import os\n",
    "import sys\n",
    "\n",
    "PROJECT_ROOT = os.path.abspath(os.path.join('.', '..'))\n",
    "print(f\"Project root: {PROJECT_ROOT}\")\n",
    "sys.path.append(PROJECT_ROOT)"
   ]
  },
  {
   "cell_type": "code",
   "execution_count": 9,
   "metadata": {},
   "outputs": [
    {
     "name": "stdout",
     "output_type": "stream",
     "text": [
      "{\n",
      "  \"root\": \"/Users/Rodion.Khvorostov/Desktop/Programming/Python/PythonPetProjects/DecksGenerator\",\n",
      "  \"data_dir\": \"/Users/Rodion.Khvorostov/Desktop/Programming/Python/PythonPetProjects/DecksGenerator/data\",\n",
      "  \"secrets\": \"/Users/Rodion.Khvorostov/Desktop/Programming/Python/PythonPetProjects/DecksGenerator/conf/secret.json\",\n",
      "  \"result\": {\n",
      "    \"name\": \"a2_words_test\",\n",
      "    \"lang\": \"german\",\n",
      "    \"keys_to_be_saved\": [\n",
      "      \"word\"\n",
      "    ],\n",
      "    \"words_file\": \"/Users/Rodion.Khvorostov/Desktop/Programming/Python/PythonPetProjects/DecksGenerator/data/words/german/a2_words_test.csv\",\n",
      "    \"result_dir\": \"/Users/Rodion.Khvorostov/Desktop/Programming/Python/PythonPetProjects/DecksGenerator/data/results/german\",\n",
      "    \"result_raw\": \"/Users/Rodion.Khvorostov/Desktop/Programming/Python/PythonPetProjects/DecksGenerator/data/results/german/a2_words_test_raw.json\",\n",
      "    \"result\": \"/Users/Rodion.Khvorostov/Desktop/Programming/Python/PythonPetProjects/DecksGenerator/data/results/german/a2_words_test.json\"\n",
      "  }\n",
      "}\n"
     ]
    }
   ],
   "source": [
    "from src.config_helpers import read_config, pprint_config\n",
    "\n",
    "# overrides = [\"setup=notebook_example\"]\n",
    "overrides = [\"+dataset/result@result=de_a2_test\"]\n",
    "cfg = read_config(overrides=overrides)\n",
    "pprint_config(cfg)"
   ]
  },
  {
   "cell_type": "code",
   "execution_count": 27,
   "metadata": {},
   "outputs": [],
   "source": [
    "from src.api.api import OpenAIApi\n",
    "from src.read_write import read_json, write_json\n",
    "\n",
    "token = read_json(cfg.secrets)[\"openai_token\"]\n",
    "api = OpenAIApi(token, cfg.model.model)"
   ]
  },
  {
   "cell_type": "code",
   "execution_count": 28,
   "metadata": {},
   "outputs": [
    {
     "data": {
      "text/plain": [
       "'As of 2021, the estimated population of Berlin is around 3.7 million people.'"
      ]
     },
     "execution_count": 28,
     "metadata": {},
     "output_type": "execute_result"
    }
   ],
   "source": [
    "res = api(\"How many people live in Berlin?\")\n",
    "res"
   ]
  }
 ],
 "metadata": {
  "kernelspec": {
   "display_name": ".venv",
   "language": "python",
   "name": "python3"
  },
  "language_info": {
   "codemirror_mode": {
    "name": "ipython",
    "version": 3
   },
   "file_extension": ".py",
   "mimetype": "text/x-python",
   "name": "python",
   "nbconvert_exporter": "python",
   "pygments_lexer": "ipython3",
   "version": "3.10.11"
  }
 },
 "nbformat": 4,
 "nbformat_minor": 2
}
