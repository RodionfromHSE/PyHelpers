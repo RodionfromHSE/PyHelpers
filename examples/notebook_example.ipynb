{
 "cells": [
  {
   "cell_type": "code",
   "execution_count": 11,
   "metadata": {},
   "outputs": [],
   "source": [
    "%load_ext autoreload\n",
    "%autoreload 2"
   ]
  },
  {
   "cell_type": "code",
   "execution_count": 12,
   "metadata": {},
   "outputs": [
    {
     "name": "stdout",
     "output_type": "stream",
     "text": [
      "Project root: /Users/Rodion.Khvorostov/Desktop/Programming/Python/PythonPetProjects/PyHelpers\n"
     ]
    }
   ],
   "source": [
    "import os\n",
    "import sys\n",
    "\n",
    "PROJECT_ROOT = os.path.abspath(os.path.join('.', '..'))\n",
    "print(f\"Project root: {PROJECT_ROOT}\")\n",
    "sys.path.append(PROJECT_ROOT)"
   ]
  },
  {
   "cell_type": "code",
   "execution_count": 17,
   "metadata": {},
   "outputs": [
    {
     "name": "stdout",
     "output_type": "stream",
     "text": [
      "{\n",
      "  \"root\": \"/Users/Rodion.Khvorostov/Desktop/Programming/Python/PythonPetProjects/PyHelpers\",\n",
      "  \"secrets\": \"/Users/Rodion.Khvorostov/Desktop/Programming/Python/PythonPetProjects/PyHelpers/conf/secrets.json\",\n",
      "  \"prompt\": {\n",
      "    \"template\": \"...\"\n",
      "  },\n",
      "  \"model\": {\n",
      "    \"model\": \"gpt-3.5-turbo\"\n",
      "  },\n",
      "  \"dataset\": {\n",
      "    \"name\": \"de_a2_test\",\n",
      "    \"keys_to_be_saved\": [\n",
      "      \"word\"\n",
      "    ],\n",
      "    \"data_dir\": \"/Users/Rodion.Khvorostov/Desktop/Programming/Python/PythonPetProjects/PyHelpers/data\",\n",
      "    \"words_file\": \"/Users/Rodion.Khvorostov/Desktop/Programming/Python/PythonPetProjects/PyHelpers/data/words/de_a2_test.csv\",\n",
      "    \"result_dir\": \"/Users/Rodion.Khvorostov/Desktop/Programming/Python/PythonPetProjects/PyHelpers/results\",\n",
      "    \"result_raw\": \"/Users/Rodion.Khvorostov/Desktop/Programming/Python/PythonPetProjects/PyHelpers/results/de_a2_test.json\",\n",
      "    \"result\": \"/Users/Rodion.Khvorostov/Desktop/Programming/Python/PythonPetProjects/PyHelpers/results/de_a2_test.json\"\n",
      "  }\n",
      "}\n"
     ]
    }
   ],
   "source": [
    "from src.config_helpers import read_config, pprint_config\n",
    "\n",
    "overrides = [\"setup=notebook_example\"]\n",
    "cfg = read_config(overrides=overrides)\n",
    "pprint_config(cfg)"
   ]
  },
  {
   "cell_type": "code",
   "execution_count": 27,
   "metadata": {},
   "outputs": [],
   "source": [
    "from src.api.api import OpenAIApi\n",
    "from src.read_write import read_json, write_json\n",
    "\n",
    "token = read_json(cfg.secrets)[\"openai_token\"]\n",
    "api = OpenAIApi(token, cfg.model.model)"
   ]
  },
  {
   "cell_type": "code",
   "execution_count": 28,
   "metadata": {},
   "outputs": [
    {
     "data": {
      "text/plain": [
       "'As of 2021, the estimated population of Berlin is around 3.7 million people.'"
      ]
     },
     "execution_count": 28,
     "metadata": {},
     "output_type": "execute_result"
    }
   ],
   "source": [
    "res = api(\"How many people live in Berlin?\")\n",
    "res"
   ]
  }
 ],
 "metadata": {
  "kernelspec": {
   "display_name": ".venv",
   "language": "python",
   "name": "python3"
  },
  "language_info": {
   "codemirror_mode": {
    "name": "ipython",
    "version": 3
   },
   "file_extension": ".py",
   "mimetype": "text/x-python",
   "name": "python",
   "nbconvert_exporter": "python",
   "pygments_lexer": "ipython3",
   "version": "3.10.11"
  }
 },
 "nbformat": 4,
 "nbformat_minor": 2
}
